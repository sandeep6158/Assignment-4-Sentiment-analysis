{
 "cells": [
  {
   "cell_type": "markdown",
   "id": "ae132e96-0032-4237-83c5-c29fc7811379",
   "metadata": {},
   "source": [
    "# Sentiment Analysis with Python: A Simple Social Media Monitoring Tool"
   ]
  },
  {
   "cell_type": "markdown",
   "id": "5a5ee730-a3d0-482e-a828-ce18927d0519",
   "metadata": {},
   "source": [
    "Sentiment analysis is a natural language processing (NLP) technique used to determine the sentiment expressed in a piece of text. This can be valuable for various applications, including social media monitoring. In this project, we'll create a basic sentiment analysis tool using Python and the TextBlob library."
   ]
  },
  {
   "cell_type": "markdown",
   "id": "2f5ac348-aa7a-4a83-9f43-e512671d4842",
   "metadata": {},
   "source": [
    "**Tools Used:**\n",
    "\n",
    "Python: A versatile programming language suitable for various applications.\n",
    "\n",
    "TextBlob: A Python library for processing textual data, providing a simple API for common NLP tasks."
   ]
  },
  {
   "cell_type": "code",
   "execution_count": 1,
   "id": "9cf9d0b5-8556-417e-9ed9-eea91a734f65",
   "metadata": {
    "tags": []
   },
   "outputs": [
    {
     "name": "stdout",
     "output_type": "stream",
     "text": [
      "Requirement already satisfied: nltk in c:\\users\\kapil\\anaconda3\\lib\\site-packages (3.8.1)\n",
      "Requirement already satisfied: textblob in c:\\users\\kapil\\anaconda3\\lib\\site-packages (0.17.1)\n",
      "Requirement already satisfied: click in c:\\users\\kapil\\anaconda3\\lib\\site-packages (from nltk) (8.0.4)\n",
      "Requirement already satisfied: joblib in c:\\users\\kapil\\anaconda3\\lib\\site-packages (from nltk) (1.2.0)\n",
      "Requirement already satisfied: regex>=2021.8.3 in c:\\users\\kapil\\anaconda3\\lib\\site-packages (from nltk) (2022.7.9)\n",
      "Requirement already satisfied: tqdm in c:\\users\\kapil\\anaconda3\\lib\\site-packages (from nltk) (4.65.0)\n",
      "Requirement already satisfied: colorama in c:\\users\\kapil\\anaconda3\\lib\\site-packages (from click->nltk) (0.4.6)\n"
     ]
    }
   ],
   "source": [
    "!pip install nltk textblob"
   ]
  },
  {
   "cell_type": "code",
   "execution_count": 2,
   "id": "44b4f5ee-7e14-4540-8f1f-85b1f8886deb",
   "metadata": {
    "tags": []
   },
   "outputs": [
    {
     "name": "stdout",
     "output_type": "stream",
     "text": [
      "Sentiment: Positive\n",
      "Sentiment Polarity: 0.6125\n"
     ]
    }
   ],
   "source": [
    "# Importing necessary libraries\n",
    "from textblob import TextBlob\n",
    "\n",
    "def analyze_sentiment(text):\n",
    "    # Create a TextBlob object\n",
    "    blob = TextBlob(text)\n",
    "    \n",
    "    # Get the sentiment polarity (-1 to 1)\n",
    "    sentiment_polarity = blob.sentiment.polarity\n",
    "    \n",
    "    # Classify the sentiment\n",
    "    if sentiment_polarity > 0:\n",
    "        sentiment_label = 'Positive'\n",
    "    elif sentiment_polarity < 0:\n",
    "        sentiment_label = 'Negative'\n",
    "    else:\n",
    "        sentiment_label = 'Neutral'\n",
    "    \n",
    "    return sentiment_label, sentiment_polarity\n",
    "\n",
    "# Example usage\n",
    "text_to_analyze = \"I love using this product! It's amazing.\"\n",
    "sentiment_label, sentiment_polarity = analyze_sentiment(text_to_analyze)\n",
    "\n",
    "print(f\"Sentiment: {sentiment_label}\")\n",
    "print(f\"Sentiment Polarity: {sentiment_polarity}\")"
   ]
  }
 ],
 "metadata": {
  "kernelspec": {
   "display_name": "Python 3 (ipykernel)",
   "language": "python",
   "name": "python3"
  },
  "language_info": {
   "codemirror_mode": {
    "name": "ipython",
    "version": 3
   },
   "file_extension": ".py",
   "mimetype": "text/x-python",
   "name": "python",
   "nbconvert_exporter": "python",
   "pygments_lexer": "ipython3",
   "version": "3.11.4"
  }
 },
 "nbformat": 4,
 "nbformat_minor": 5
}
